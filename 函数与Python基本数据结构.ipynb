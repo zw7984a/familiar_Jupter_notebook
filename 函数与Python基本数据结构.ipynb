{
 "cells": [
  {
   "cell_type": "code",
   "execution_count": 3,
   "metadata": {},
   "outputs": [
    {
     "data": {
      "text/plain": [
       "'<ul class=\"herolist clearfix\"><li><a href=\"herodetail/194.shtml\" target=\"_blank\"><img src=\"http://game.gtimg.cn/images/yxzj/img201606/heroimg/194/194.jpg\" width=\"91px\" alt=\"苏烈\">苏烈</a></li><li><a href=\"herodetail/195.shtml\" target=\"_blank\"><img src=\"http://game.gtimg.cn/images/yxzj/img201606/heroimg/195/195.jpg\" width=\"91px\" alt=\"百里玄策\">百里玄策</a></li><li><a href=\"herodetail/196.shtml\" target=\"_blank\"><img src=\"http://game.gtimg.cn/images/yxzj/img201606/heroimg/196/196.jpg\" width=\"91px\" alt=\"百里守约\">百里守约</a></li><li><a href=\"herodetail/193.shtml\" target=\"_blank\"><img src=\"http://game.gtimg.cn/images/yxzj/img201606/heroimg/193/193.jpg\" width=\"91px\" alt=\"铠\">铠</a></li></ul>\\n'"
      ]
     },
     "execution_count": 3,
     "metadata": {},
     "output_type": "execute_result"
    }
   ],
   "source": [
    "page_hero = '''<ul class=\"herolist clearfix\"><li><a href=\"herodetail/194.shtml\" target=\"_blank\"><img src=\"http://game.gtimg.cn/images/yxzj/img201606/heroimg/194/194.jpg\" width=\"91px\" alt=\"苏烈\">苏烈</a></li><li><a href=\"herodetail/195.shtml\" target=\"_blank\"><img src=\"http://game.gtimg.cn/images/yxzj/img201606/heroimg/195/195.jpg\" width=\"91px\" alt=\"百里玄策\">百里玄策</a></li><li><a href=\"herodetail/196.shtml\" target=\"_blank\"><img src=\"http://game.gtimg.cn/images/yxzj/img201606/heroimg/196/196.jpg\" width=\"91px\" alt=\"百里守约\">百里守约</a></li><li><a href=\"herodetail/193.shtml\" target=\"_blank\"><img src=\"http://game.gtimg.cn/images/yxzj/img201606/heroimg/193/193.jpg\" width=\"91px\" alt=\"铠\">铠</a></li></ul>\n",
    "'''\n",
    "page_hero"
   ]
  },
  {
   "cell_type": "code",
   "execution_count": 5,
   "metadata": {},
   "outputs": [
    {
     "data": {
      "text/plain": [
       "81"
      ]
     },
     "execution_count": 5,
     "metadata": {},
     "output_type": "execute_result"
    }
   ],
   "source": [
    "start_link=page_hero.find('<img src=\"')\n",
    "start_link"
   ]
  },
  {
   "cell_type": "code",
   "execution_count": 7,
   "metadata": {},
   "outputs": [
    {
     "data": {
      "text/plain": [
       "90"
      ]
     },
     "execution_count": 7,
     "metadata": {},
     "output_type": "execute_result"
    }
   ],
   "source": [
    "start_quote=page_hero.find('\"',start_link)#从start_link位置开始搜索\n",
    "start_quote"
   ]
  },
  {
   "cell_type": "code",
   "execution_count": 8,
   "metadata": {},
   "outputs": [
    {
     "data": {
      "text/plain": [
       "153"
      ]
     },
     "execution_count": 8,
     "metadata": {},
     "output_type": "execute_result"
    }
   ],
   "source": [
    "end_quote =page_hero.find('\"',start_quote+1)\n",
    "end_quote"
   ]
  },
  {
   "cell_type": "code",
   "execution_count": 11,
   "metadata": {},
   "outputs": [
    {
     "data": {
      "text/plain": [
       "'http://game.gtimg.cn/images/yxzj/img201606/heroimg/194/194.jpg'"
      ]
     },
     "execution_count": 11,
     "metadata": {},
     "output_type": "execute_result"
    }
   ],
   "source": [
    "page_hero[start_quote+1:end_quote]"
   ]
  },
  {
   "cell_type": "code",
   "execution_count": 12,
   "metadata": {},
   "outputs": [
    {
     "data": {
      "text/plain": [
       "'苏烈'"
      ]
     },
     "execution_count": 12,
     "metadata": {},
     "output_type": "execute_result"
    }
   ],
   "source": [
    "end_bracket =page_hero.find('>',end_quote+1)\n",
    "start_bracket =page_hero.find('<',end_bracket+1)\n",
    "page_hero[end_bracket+1:start_bracket]"
   ]
  },
  {
   "cell_type": "markdown",
   "metadata": {},
   "source": [
    "### 函数"
   ]
  },
  {
   "cell_type": "code",
   "execution_count": 20,
   "metadata": {},
   "outputs": [],
   "source": [
    "def extract_hero_and_image(current_page):\n",
    "    start_link=current_page.find('<img src=\"')\n",
    "    start_quote=current_page.find('\"',start_link)\n",
    "    end_quote =current_page.find('\"',start_quote+1)\n",
    "    current_page[start_quote+1:end_quote]\n",
    "    end_bracket =current_page.find('>',end_quote+1)\n",
    "    start_bracket =current_page.find('<',end_bracket+1)\n",
    "    print(current_page[start_quote+1:end_quote])\n",
    "    print(current_page[end_bracket+1:start_bracket])\n",
    "    return start_bracket"
   ]
  },
  {
   "cell_type": "code",
   "execution_count": 22,
   "metadata": {},
   "outputs": [
    {
     "name": "stdout",
     "output_type": "stream",
     "text": [
      "http://game.gtimg.cn/images/yxzj/img201606/heroimg/194/194.jpg\n",
      "苏烈\n"
     ]
    }
   ],
   "source": [
    "entry_sulie=extract_hero_and_image(page_hero)"
   ]
  },
  {
   "cell_type": "code",
   "execution_count": 23,
   "metadata": {},
   "outputs": [
    {
     "data": {
      "text/plain": [
       "179"
      ]
     },
     "execution_count": 23,
     "metadata": {},
     "output_type": "execute_result"
    }
   ],
   "source": [
    "entry_sulie"
   ]
  },
  {
   "cell_type": "code",
   "execution_count": 24,
   "metadata": {},
   "outputs": [
    {
     "name": "stdout",
     "output_type": "stream",
     "text": [
      "http://game.gtimg.cn/images/yxzj/img201606/heroimg/195/195.jpg\n",
      "百里玄策\n"
     ]
    }
   ],
   "source": [
    "page_hero=page_hero[entry_sulie:]\n",
    "entry_xuance=extract_hero_and_image(page_hero)"
   ]
  },
  {
   "cell_type": "code",
   "execution_count": 26,
   "metadata": {},
   "outputs": [
    {
     "data": {
      "text/plain": [
       "function"
      ]
     },
     "execution_count": 26,
     "metadata": {},
     "output_type": "execute_result"
    }
   ],
   "source": [
    "def do_nothing(): #定义空函数\n",
    "    pass\n",
    "type(do_nothing)"
   ]
  },
  {
   "cell_type": "code",
   "execution_count": 29,
   "metadata": {},
   "outputs": [
    {
     "name": "stdout",
     "output_type": "stream",
     "text": [
      "Hello Python\n",
      "None\n"
     ]
    }
   ],
   "source": [
    "def greeting():\n",
    "    print(\"Hello Python\")\n",
    "\n",
    "# Call the function\n",
    "a = greeting()\n",
    "print(a)"
   ]
  },
  {
   "cell_type": "code",
   "execution_count": null,
   "metadata": {},
   "outputs": [],
   "source": [
    "# A function with a parameter and return a string\n",
    "def greeting_str(name):\n",
    "    return \"Hello again \" + name\n",
    "\n",
    "# Use the function\n",
    "s = greeting_str(\"Joshua\")\n",
    "print(s)"
   ]
  }
 ],
 "metadata": {
  "kernelspec": {
   "display_name": "Python 3",
   "language": "python",
   "name": "python3"
  },
  "language_info": {
   "codemirror_mode": {
    "name": "ipython",
    "version": 3
   },
   "file_extension": ".py",
   "mimetype": "text/x-python",
   "name": "python",
   "nbconvert_exporter": "python",
   "pygments_lexer": "ipython3",
   "version": "3.7.3"
  }
 },
 "nbformat": 4,
 "nbformat_minor": 2
}
