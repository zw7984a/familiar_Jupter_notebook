{
 "cells": [
  {
   "cell_type": "markdown",
   "metadata": {},
   "source": [
    "## 函数"
   ]
  },
  {
   "cell_type": "code",
   "execution_count": 3,
   "metadata": {},
   "outputs": [
    {
     "data": {
      "text/plain": [
       "'<ul class=\"herolist clearfix\"><li><a href=\"herodetail/194.shtml\" target=\"_blank\"><img src=\"http://game.gtimg.cn/images/yxzj/img201606/heroimg/194/194.jpg\" width=\"91px\" alt=\"苏烈\">苏烈</a></li><li><a href=\"herodetail/195.shtml\" target=\"_blank\"><img src=\"http://game.gtimg.cn/images/yxzj/img201606/heroimg/195/195.jpg\" width=\"91px\" alt=\"百里玄策\">百里玄策</a></li><li><a href=\"herodetail/196.shtml\" target=\"_blank\"><img src=\"http://game.gtimg.cn/images/yxzj/img201606/heroimg/196/196.jpg\" width=\"91px\" alt=\"百里守约\">百里守约</a></li><li><a href=\"herodetail/193.shtml\" target=\"_blank\"><img src=\"http://game.gtimg.cn/images/yxzj/img201606/heroimg/193/193.jpg\" width=\"91px\" alt=\"铠\">铠</a></li></ul>\\n'"
      ]
     },
     "execution_count": 3,
     "metadata": {},
     "output_type": "execute_result"
    }
   ],
   "source": [
    "page_hero = '''<ul class=\"herolist clearfix\"><li><a href=\"herodetail/194.shtml\" target=\"_blank\"><img src=\"http://game.gtimg.cn/images/yxzj/img201606/heroimg/194/194.jpg\" width=\"91px\" alt=\"苏烈\">苏烈</a></li><li><a href=\"herodetail/195.shtml\" target=\"_blank\"><img src=\"http://game.gtimg.cn/images/yxzj/img201606/heroimg/195/195.jpg\" width=\"91px\" alt=\"百里玄策\">百里玄策</a></li><li><a href=\"herodetail/196.shtml\" target=\"_blank\"><img src=\"http://game.gtimg.cn/images/yxzj/img201606/heroimg/196/196.jpg\" width=\"91px\" alt=\"百里守约\">百里守约</a></li><li><a href=\"herodetail/193.shtml\" target=\"_blank\"><img src=\"http://game.gtimg.cn/images/yxzj/img201606/heroimg/193/193.jpg\" width=\"91px\" alt=\"铠\">铠</a></li></ul>\n",
    "'''\n",
    "page_hero"
   ]
  },
  {
   "cell_type": "code",
   "execution_count": 5,
   "metadata": {},
   "outputs": [
    {
     "data": {
      "text/plain": [
       "81"
      ]
     },
     "execution_count": 5,
     "metadata": {},
     "output_type": "execute_result"
    }
   ],
   "source": [
    "start_link=page_hero.find('<img src=\"')\n",
    "start_link"
   ]
  },
  {
   "cell_type": "code",
   "execution_count": 7,
   "metadata": {},
   "outputs": [
    {
     "data": {
      "text/plain": [
       "90"
      ]
     },
     "execution_count": 7,
     "metadata": {},
     "output_type": "execute_result"
    }
   ],
   "source": [
    "start_quote=page_hero.find('\"',start_link)#从start_link位置开始搜索\n",
    "start_quote"
   ]
  },
  {
   "cell_type": "code",
   "execution_count": 8,
   "metadata": {},
   "outputs": [
    {
     "data": {
      "text/plain": [
       "153"
      ]
     },
     "execution_count": 8,
     "metadata": {},
     "output_type": "execute_result"
    }
   ],
   "source": [
    "end_quote =page_hero.find('\"',start_quote+1)\n",
    "end_quote"
   ]
  },
  {
   "cell_type": "code",
   "execution_count": 11,
   "metadata": {},
   "outputs": [
    {
     "data": {
      "text/plain": [
       "'http://game.gtimg.cn/images/yxzj/img201606/heroimg/194/194.jpg'"
      ]
     },
     "execution_count": 11,
     "metadata": {},
     "output_type": "execute_result"
    }
   ],
   "source": [
    "page_hero[start_quote+1:end_quote]"
   ]
  },
  {
   "cell_type": "code",
   "execution_count": 12,
   "metadata": {},
   "outputs": [
    {
     "data": {
      "text/plain": [
       "'苏烈'"
      ]
     },
     "execution_count": 12,
     "metadata": {},
     "output_type": "execute_result"
    }
   ],
   "source": [
    "end_bracket =page_hero.find('>',end_quote+1)\n",
    "start_bracket =page_hero.find('<',end_bracket+1)\n",
    "page_hero[end_bracket+1:start_bracket]"
   ]
  },
  {
   "cell_type": "markdown",
   "metadata": {},
   "source": [
    "### 函数"
   ]
  },
  {
   "cell_type": "code",
   "execution_count": 20,
   "metadata": {},
   "outputs": [],
   "source": [
    "def extract_hero_and_image(current_page):\n",
    "    start_link=current_page.find('<img src=\"')\n",
    "    start_quote=current_page.find('\"',start_link)\n",
    "    end_quote =current_page.find('\"',start_quote+1)\n",
    "    current_page[start_quote+1:end_quote]\n",
    "    end_bracket =current_page.find('>',end_quote+1)\n",
    "    start_bracket =current_page.find('<',end_bracket+1)\n",
    "    print(current_page[start_quote+1:end_quote])\n",
    "    print(current_page[end_bracket+1:start_bracket])\n",
    "    return start_bracket"
   ]
  },
  {
   "cell_type": "code",
   "execution_count": 22,
   "metadata": {},
   "outputs": [
    {
     "name": "stdout",
     "output_type": "stream",
     "text": [
      "http://game.gtimg.cn/images/yxzj/img201606/heroimg/194/194.jpg\n",
      "苏烈\n"
     ]
    }
   ],
   "source": [
    "entry_sulie=extract_hero_and_image(page_hero)"
   ]
  },
  {
   "cell_type": "code",
   "execution_count": 23,
   "metadata": {},
   "outputs": [
    {
     "data": {
      "text/plain": [
       "179"
      ]
     },
     "execution_count": 23,
     "metadata": {},
     "output_type": "execute_result"
    }
   ],
   "source": [
    "entry_sulie"
   ]
  },
  {
   "cell_type": "code",
   "execution_count": 24,
   "metadata": {},
   "outputs": [
    {
     "name": "stdout",
     "output_type": "stream",
     "text": [
      "http://game.gtimg.cn/images/yxzj/img201606/heroimg/195/195.jpg\n",
      "百里玄策\n"
     ]
    }
   ],
   "source": [
    "page_hero=page_hero[entry_sulie:]\n",
    "entry_xuance=extract_hero_and_image(page_hero)"
   ]
  },
  {
   "cell_type": "code",
   "execution_count": 26,
   "metadata": {},
   "outputs": [
    {
     "data": {
      "text/plain": [
       "function"
      ]
     },
     "execution_count": 26,
     "metadata": {},
     "output_type": "execute_result"
    }
   ],
   "source": [
    "def do_nothing(): #定义空函数\n",
    "    pass\n",
    "type(do_nothing)"
   ]
  },
  {
   "cell_type": "code",
   "execution_count": 29,
   "metadata": {},
   "outputs": [
    {
     "name": "stdout",
     "output_type": "stream",
     "text": [
      "Hello Python\n",
      "None\n"
     ]
    }
   ],
   "source": [
    "def greeting():\n",
    "    print(\"Hello Python\")\n",
    "\n",
    "# Call the function\n",
    "a = greeting()\n",
    "print(a)"
   ]
  },
  {
   "cell_type": "code",
   "execution_count": null,
   "metadata": {},
   "outputs": [],
   "source": [
    "# A function with a parameter and return a string\n",
    "def greeting_str(name):\n",
    "    return \"Hello again \" + name\n",
    "\n",
    "# Use the function\n",
    "s = greeting_str(\"Joshua\")\n",
    "print(s)"
   ]
  },
  {
   "cell_type": "markdown",
   "metadata": {},
   "source": [
    "### Positional Arguments¶"
   ]
  },
  {
   "cell_type": "code",
   "execution_count": 1,
   "metadata": {},
   "outputs": [
    {
     "data": {
      "text/plain": [
       "'wine:chardonnay,entree:chicken,dessert:cake'"
      ]
     },
     "execution_count": 1,
     "metadata": {},
     "output_type": "execute_result"
    }
   ],
   "source": [
    "# A function with 3 parameters\n",
    "def menu(wine, entree, dessert):\n",
    "    return \"wine:{},entree:{},dessert:{}\".format(wine,entree,dessert)\n",
    "\n",
    "# Get a menu\n",
    "menu('chardonnay', 'chicken', 'cake')"
   ]
  },
  {
   "cell_type": "markdown",
   "metadata": {},
   "source": [
    "### Keyword Arguments"
   ]
  },
  {
   "cell_type": "code",
   "execution_count": 2,
   "metadata": {},
   "outputs": [
    {
     "data": {
      "text/plain": [
       "'wine:bordeaux,entree:beef,dessert:cake'"
      ]
     },
     "execution_count": 2,
     "metadata": {},
     "output_type": "execute_result"
    }
   ],
   "source": [
    "menu(entree='beef', dessert='cake', wine='bordeaux')"
   ]
  },
  {
   "cell_type": "markdown",
   "metadata": {},
   "source": [
    "### Default Parameter Values"
   ]
  },
  {
   "cell_type": "code",
   "execution_count": 3,
   "metadata": {},
   "outputs": [
    {
     "data": {
      "text/plain": [
       "'wine:chardonnay,entree:chicken,dessert:pudding'"
      ]
     },
     "execution_count": 3,
     "metadata": {},
     "output_type": "execute_result"
    }
   ],
   "source": [
    "# default dessert is pudding\n",
    "def menu(wine, entree, dessert='pudding'):\n",
    "    return \"wine:{},entree:{},dessert:{}\".format(wine,entree,dessert)\n",
    "\n",
    "\n",
    "# Call menu without providing dessert\n",
    "menu('chardonnay', 'chicken')"
   ]
  },
  {
   "cell_type": "code",
   "execution_count": 4,
   "metadata": {},
   "outputs": [
    {
     "data": {
      "text/plain": [
       "'wine:chardonnay,entree:chicken,dessert:doughnut'"
      ]
     },
     "execution_count": 4,
     "metadata": {},
     "output_type": "execute_result"
    }
   ],
   "source": [
    "# Default value will be overwritten if caller provide a value\n",
    "menu('chardonnay', 'chicken', 'doughnut')"
   ]
  },
  {
   "cell_type": "markdown",
   "metadata": {},
   "source": [
    "### Gather Positional Arguments with *¶"
   ]
  },
  {
   "cell_type": "code",
   "execution_count": null,
   "metadata": {},
   "outputs": [],
   "source": [
    "def print_args(*args): #*args是个元组,可以传人很多参数\n",
    "    print('Positional args:', args)\n",
    "print_args(1,2,3,'hello',)"
   ]
  },
  {
   "cell_type": "code",
   "execution_count": 6,
   "metadata": {},
   "outputs": [
    {
     "name": "stdout",
     "output_type": "stream",
     "text": [
      "required arg 1: 1\n",
      "required arg 2: 2\n",
      "All other args: (3, 4, 5, 6, 7)\n"
     ]
    }
   ],
   "source": [
    "def print_args_with_required(req1, req2, *args):\n",
    "    print('required arg 1:', req1)\n",
    "    print('required arg 2:', req2)\n",
    "    print('All other args:', args)\n",
    "print_args_with_required(1,2,3,4,5,6,7)"
   ]
  },
  {
   "cell_type": "markdown",
   "metadata": {},
   "source": [
    "### Gather Keyword Arguments with **"
   ]
  },
  {
   "cell_type": "code",
   "execution_count": 4,
   "metadata": {},
   "outputs": [
    {
     "name": "stdout",
     "output_type": "stream",
     "text": [
      "Keyword args: {'first': 1, 'second': 2, 'key': 123}\n"
     ]
    }
   ],
   "source": [
    "def print_kwargs(**kwargs): #**kwargs 是个字典\n",
    "    print('Keyword args:', kwargs) \n",
    "print_kwargs(first=1,second=2,key=123) # key : value"
   ]
  },
  {
   "cell_type": "code",
   "execution_count": 6,
   "metadata": {},
   "outputs": [
    {
     "name": "stdout",
     "output_type": "stream",
     "text": [
      "required arg1: 1\n",
      "Positional args: (2, 3)\n",
      "Keyword args: {'key': 123}\n"
     ]
    }
   ],
   "source": [
    "def print_all_args(req1, *args, **kwargs): #要按先reql,再元组，之后再字典的顺序\n",
    "    print('required arg1:', req1)\n",
    "    print('Positional args:', args)\n",
    "    print('Keyword args:', kwargs)\n",
    "print_all_args(1,2,3,key=123)"
   ]
  },
  {
   "cell_type": "markdown",
   "metadata": {},
   "source": [
    "### Docstrings"
   ]
  },
  {
   "cell_type": "code",
   "execution_count": 16,
   "metadata": {},
   "outputs": [
    {
     "name": "stdout",
     "output_type": "stream",
     "text": [
      "Help on function print_if_a in module __main__:\n",
      "\n",
      "print_if_a(thing, check)\n",
      "    Prints the first argument if the seconde argument is true.\n",
      "    The operation is:\n",
      "        1. Check whther the *second* argument is true\n",
      "        2. If it is, print the *first* argument.\n",
      "\n"
     ]
    }
   ],
   "source": [
    "def print_if_true(thing, check):\n",
    "    '''\n",
    "    Prints the first argument if the seconde argument is true.\n",
    "    The operation is:\n",
    "        1. Check whther the *second* argument is true\n",
    "        2. If it is, print the *first* argument.   \n",
    "    '''\n",
    "    if check:\n",
    "        print(thing)\n",
    "        \n",
    "# Use help to get the docstring of a function\n",
    "help(print_if_true)\n",
    "\n"
   ]
  },
  {
   "cell_type": "code",
   "execution_count": 8,
   "metadata": {},
   "outputs": [],
   "source": [
    "?print_if_true"
   ]
  },
  {
   "cell_type": "code",
   "execution_count": 17,
   "metadata": {},
   "outputs": [
    {
     "name": "stdout",
     "output_type": "stream",
     "text": [
      "\n",
      "    Prints the first argument if the seconde argument is true.\n",
      "    The operation is:\n",
      "        1. Check whther the *second* argument is true\n",
      "        2. If it is, print the *first* argument.   \n",
      "    \n"
     ]
    }
   ],
   "source": [
    "# We can also get the raw docstrint by using __doc__ \n",
    "print(print_if_true.__doc__)"
   ]
  },
  {
   "cell_type": "code",
   "execution_count": 21,
   "metadata": {},
   "outputs": [],
   "source": [
    "def hello_world(name):\n",
    "    print(name)    "
   ]
  },
  {
   "cell_type": "code",
   "execution_count": 22,
   "metadata": {},
   "outputs": [],
   "source": [
    "fun_a = hello_world"
   ]
  },
  {
   "cell_type": "code",
   "execution_count": 23,
   "metadata": {},
   "outputs": [
    {
     "name": "stdout",
     "output_type": "stream",
     "text": [
      "kelly\n"
     ]
    }
   ],
   "source": [
    "fun_a('kelly')"
   ]
  },
  {
   "cell_type": "markdown",
   "metadata": {},
   "source": [
    "### Lambda"
   ]
  },
  {
   "cell_type": "code",
   "execution_count": 24,
   "metadata": {},
   "outputs": [],
   "source": [
    "def binary_operation(func,op1,op2):\n",
    "    return func(op1,op2)"
   ]
  },
  {
   "cell_type": "code",
   "execution_count": 25,
   "metadata": {},
   "outputs": [
    {
     "name": "stdout",
     "output_type": "stream",
     "text": [
      "2 * 4 =  8\n"
     ]
    }
   ],
   "source": [
    "def mul(op1, op2):\n",
    "    return op1 * op2\n",
    "\n",
    "print(\"2 * 4 = \", binary_operation(mul, 2, 4))"
   ]
  },
  {
   "cell_type": "markdown",
   "metadata": {},
   "source": [
    "lambda 定义匿名函数，op1,op2是参数，op1* op2是返回值"
   ]
  },
  {
   "cell_type": "code",
   "execution_count": 28,
   "metadata": {},
   "outputs": [
    {
     "data": {
      "text/plain": [
       "8"
      ]
     },
     "execution_count": 28,
     "metadata": {},
     "output_type": "execute_result"
    }
   ],
   "source": [
    "binary_operation(lambda op1,op2: op1 * op2, 2, 4) #lambda op1,op2: op1 * op2，相当于定义了一个函数"
   ]
  },
  {
   "cell_type": "markdown",
   "metadata": {},
   "source": [
    "### First-Class Citizens\n",
    "\n",
    "Everthing in Python is an object, including functions. You can assign functions to variables, use them as arguments to other functions and return them from functions."
   ]
  },
  {
   "cell_type": "code",
   "execution_count": 29,
   "metadata": {},
   "outputs": [],
   "source": [
    "def answer1():\n",
    "    print(\"Python is the best computer language!\")\n",
    "    \n",
    "def answer2():\n",
    "    print(\"No! PHP is the best one!\")\n",
    "\n",
    "# A function that takes another function as argument\n",
    "def run_somthing(func):\n",
    "    func()"
   ]
  },
  {
   "cell_type": "code",
   "execution_count": null,
   "metadata": {},
   "outputs": [],
   "source": [
    "run_somthing(answer1)\n",
    "run_somthing(answer2)"
   ]
  },
  {
   "cell_type": "code",
   "execution_count": 31,
   "metadata": {},
   "outputs": [],
   "source": [
    "def exp_factory(n):\n",
    "    def exp(a):\n",
    "        return a ** n\n",
    "    return exp"
   ]
  },
  {
   "cell_type": "code",
   "execution_count": 33,
   "metadata": {},
   "outputs": [
    {
     "data": {
      "text/plain": [
       "<function __main__.exp_factory.<locals>.exp(a)>"
      ]
     },
     "execution_count": 33,
     "metadata": {},
     "output_type": "execute_result"
    }
   ],
   "source": [
    "square = exp_factory(2)\n"
   ]
  },
  {
   "cell_type": "code",
   "execution_count": 34,
   "metadata": {},
   "outputs": [
    {
     "data": {
      "text/plain": [
       "9"
      ]
     },
     "execution_count": 34,
     "metadata": {},
     "output_type": "execute_result"
    }
   ],
   "source": [
    "square(3)"
   ]
  },
  {
   "cell_type": "markdown",
   "metadata": {},
   "source": [
    "### Exception"
   ]
  },
  {
   "cell_type": "code",
   "execution_count": 35,
   "metadata": {},
   "outputs": [
    {
     "name": "stdout",
     "output_type": "stream",
     "text": [
      "5/2= 2.5\n"
     ]
    }
   ],
   "source": [
    "def binary_operation(func, op1, op2):\n",
    "    return func(op1, op2)\n",
    "    \n",
    "def div(op1,op2):\n",
    "    try:\n",
    "        return op1/op2\n",
    "    except ZeroDivisionError:  #什么错误都抓，不止抓特定的错误只用except,抓多个错误接着往后写except\n",
    "        print('Divsion by Zero!')\n",
    "        \n",
    "print('5/2=',binary_operation(div, 5, 2))"
   ]
  },
  {
   "cell_type": "markdown",
   "metadata": {},
   "source": [
    "## Python Code Structure"
   ]
  },
  {
   "cell_type": "markdown",
   "metadata": {},
   "source": [
    "### Condition"
   ]
  },
  {
   "cell_type": "code",
   "execution_count": 36,
   "metadata": {},
   "outputs": [
    {
     "name": "stdout",
     "output_type": "stream",
     "text": [
      "Take your umberalla just in case. hhhaha\n"
     ]
    }
   ],
   "source": [
    "possibility_to_rain = 0.7 \n",
    "if possibility_to_rain > 0.8:\n",
    "    print(\"Do take your umberalla with you.\") ## 这个地方标准格式是四个空格的缩进\n",
    "elif possibility_to_rain > 0.3:\n",
    "    print(\"Take your umberalla just in case. hhhaha\")\n",
    "else:\n",
    "    print(\"Enjoy the sunshine!\")"
   ]
  },
  {
   "cell_type": "code",
   "execution_count": 37,
   "metadata": {},
   "outputs": [
    {
     "name": "stdout",
     "output_type": "stream",
     "text": [
      "Please enter an integer:-1\n",
      "Negative Number\n"
     ]
    }
   ],
   "source": [
    "x=int(input('Please enter an integer:'))\n",
    "if x < 0 :\n",
    "    print('Negative Number')\n",
    "elif x==0:\n",
    "    print('Zero') \n",
    "else:\n",
    "    print('More')     "
   ]
  },
  {
   "cell_type": "markdown",
   "metadata": {},
   "source": [
    "### Loop"
   ]
  },
  {
   "cell_type": "markdown",
   "metadata": {},
   "source": [
    "* While Loop\n",
    "* For Loop"
   ]
  },
  {
   "cell_type": "code",
   "execution_count": 40,
   "metadata": {},
   "outputs": [
    {
     "name": "stdout",
     "output_type": "stream",
     "text": [
      "cnt = 1\n",
      "cnt = 2\n",
      "cnt = 3\n",
      "cnt = 4\n",
      "cnt = 5\n",
      "cnt = 6\n",
      "cnt = 7\n",
      "cnt = 8\n",
      "cnt = 9\n",
      "cnt = 10\n",
      "Finsh啦啦啦\n"
     ]
    }
   ],
   "source": [
    "cnt=1\n",
    "while cnt<=10:\n",
    "    print('cnt = %d'% cnt)\n",
    "    cnt+=1\n",
    "print('Finsh','啦啦啦')"
   ]
  },
  {
   "cell_type": "code",
   "execution_count": 41,
   "metadata": {},
   "outputs": [
    {
     "name": "stdout",
     "output_type": "stream",
     "text": [
      "cnt = 1\n",
      "Do you want to continue? [y:n]: y\n",
      "cnt = 2\n",
      "Do you want to continue? [y:n]: n\n"
     ]
    }
   ],
   "source": [
    "cnt = 1\n",
    "while True:\n",
    "    print(\"cnt = %d\" % cnt)\n",
    "    ch = input('Do you want to continue? [y:n]: ')\n",
    "    if ch == 'y':\n",
    "        cnt += 1\n",
    "    else:\n",
    "        break #break跳出循环\n",
    "\n",
    "    "
   ]
  },
  {
   "cell_type": "code",
   "execution_count": 45,
   "metadata": {},
   "outputs": [
    {
     "name": "stdout",
     "output_type": "stream",
     "text": [
      "while count: 0\n",
      "while count: 1\n",
      "while count: 2\n",
      "while count: 3\n",
      "while count: 4\n",
      "while count: 5\n",
      "while count: 6\n",
      "while count: 7\n",
      "while count: 8\n",
      "while count: 9\n",
      "while count: 10\n",
      "else: 11\n"
     ]
    }
   ],
   "source": [
    "count=0\n",
    "while count < 11:\n",
    "    print(\"while count:\",count)\n",
    "    count = count + 1\n",
    "    if(count == 12):\n",
    "        break\n",
    "else:\n",
    "    print(\"else:\",count)    #如果循环没有被break掉，执行else的内容"
   ]
  },
  {
   "cell_type": "code",
   "execution_count": 42,
   "metadata": {},
   "outputs": [
    {
     "name": "stdout",
     "output_type": "stream",
     "text": [
      "0\n",
      "1\n",
      "2\n",
      "3\n",
      "4\n",
      "5\n",
      "6\n",
      "7\n",
      "8\n",
      "9\n"
     ]
    }
   ],
   "source": [
    "for i in range(10): #0-9\n",
    "    print(i)"
   ]
  },
  {
   "cell_type": "code",
   "execution_count": 43,
   "metadata": {},
   "outputs": [
    {
     "name": "stdout",
     "output_type": "stream",
     "text": [
      "0\n",
      "1\n",
      "2\n",
      "3\n",
      "4\n",
      "5\n"
     ]
    }
   ],
   "source": [
    "for i in range(10): #0-9\n",
    "    print(i)\n",
    "    if i==5:\n",
    "        break"
   ]
  },
  {
   "cell_type": "code",
   "execution_count": null,
   "metadata": {},
   "outputs": [],
   "source": [
    "result = 0\n",
    "for num in range(1,10):\n",
    "    if num % 2 == 0:\n",
    "        result = result + num\n",
    "        print(result)\n",
    "else:\n",
    "    print(\"here it is\",num) #循环里的最后一个数会执行纸条语句"
   ]
  },
  {
   "cell_type": "markdown",
   "metadata": {},
   "source": [
    "### Random"
   ]
  },
  {
   "cell_type": "code",
   "execution_count": 52,
   "metadata": {},
   "outputs": [
    {
     "data": {
      "text/plain": [
       "51"
      ]
     },
     "execution_count": 52,
     "metadata": {},
     "output_type": "execute_result"
    }
   ],
   "source": [
    "from random import randint\n",
    "randint(1,100)"
   ]
  },
  {
   "cell_type": "code",
   "execution_count": 58,
   "metadata": {},
   "outputs": [
    {
     "name": "stdout",
     "output_type": "stream",
     "text": [
      "xxxxxxxxxx\n",
      "xxxxxxxxxx\n",
      "xxxxxxxxxx\n",
      "xxxxxxxxxx\n"
     ]
    }
   ],
   "source": [
    "for i in range(4):          # change number 4 to other values\n",
    "    for j in range(10):     # change number 10 to other values\n",
    "        print(\"x\", end=\"\")  # end=''让他结尾不换行\n",
    "    print(\"\")               # print('')换行"
   ]
  },
  {
   "cell_type": "code",
   "execution_count": 59,
   "metadata": {},
   "outputs": [
    {
     "name": "stdout",
     "output_type": "stream",
     "text": [
      "x\n",
      "xx\n",
      "xxx\n",
      "xxxx\n",
      "xxxxx\n"
     ]
    }
   ],
   "source": [
    "for i in range(5):          # change number 4 to other values\n",
    "    for j in range(i+1):     # change number 10 to other values\n",
    "        print(\"x\", end=\"\")  # end=''让他结尾不换行\n",
    "    print(\"\")               # print('')换行"
   ]
  },
  {
   "cell_type": "code",
   "execution_count": 60,
   "metadata": {},
   "outputs": [
    {
     "name": "stdout",
     "output_type": "stream",
     "text": [
      "TTTTTx\n",
      "TTTTxx\n",
      "TTTxxx\n",
      "TTxxxx\n",
      "Txxxxx\n"
     ]
    }
   ],
   "source": [
    "for i in range(5):\n",
    "    for j in range(5 + 1):\n",
    "        if i + j > 4:\n",
    "            print(\"x\", end=\"\")\n",
    "        else:\n",
    "            print(\"T\", end=\"\")\n",
    "    print(\"\")"
   ]
  },
  {
   "cell_type": "markdown",
   "metadata": {},
   "source": [
    "### Generator"
   ]
  },
  {
   "cell_type": "code",
   "execution_count": 62,
   "metadata": {},
   "outputs": [],
   "source": [
    "def my_range(first=0, last=1, step=1):\n",
    "    n = first\n",
    "    while n < last:\n",
    "        yield n\n",
    "        n += step"
   ]
  },
  {
   "cell_type": "code",
   "execution_count": 63,
   "metadata": {},
   "outputs": [],
   "source": [
    "my_num=my_range(0,5) #它是一个generator，一次只能调用一次"
   ]
  },
  {
   "cell_type": "code",
   "execution_count": 64,
   "metadata": {},
   "outputs": [
    {
     "name": "stdout",
     "output_type": "stream",
     "text": [
      "0\n",
      "1\n",
      "2\n",
      "3\n",
      "4\n"
     ]
    }
   ],
   "source": [
    "for i in my_num:\n",
    "    print(i)"
   ]
  },
  {
   "cell_type": "markdown",
   "metadata": {},
   "source": [
    "### Decorators\n",
    "\n",
    "Somtimes, you want to modify an existing function without changing its source code. Some common use cases are logging and debugging."
   ]
  },
  {
   "cell_type": "code",
   "execution_count": null,
   "metadata": {},
   "outputs": [],
   "source": []
  }
 ],
 "metadata": {
  "kernelspec": {
   "display_name": "Python 3",
   "language": "python",
   "name": "python3"
  },
  "language_info": {
   "codemirror_mode": {
    "name": "ipython",
    "version": 3
   },
   "file_extension": ".py",
   "mimetype": "text/x-python",
   "name": "python",
   "nbconvert_exporter": "python",
   "pygments_lexer": "ipython3",
   "version": "3.7.3"
  }
 },
 "nbformat": 4,
 "nbformat_minor": 2
}
